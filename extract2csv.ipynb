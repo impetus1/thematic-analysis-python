{
 "cells": [
  {
   "cell_type": "code",
   "execution_count": 2,
   "metadata": {},
   "outputs": [
    {
     "name": "stdout",
     "output_type": "stream",
     "text": [
      "(\"QUESTION 1: ---X: Indeed outreach is the basic type of the way of communicating about science and more technical\\ntopics with a broader audience. The challenge of outreach in QT is that, it is an extremely complex\\ntopic. We need to find different language and approach to explain these technologies to a broader\\naudience. The possibility to creating a different language was already discussed by the former\\npanellists. So, in a way it\\xe2\\x80\\x99s a different form of outreach because of the needs goes through concepts\\nwhich are not easy to explain.\\nY: What is different in QT is, apart from the science part, it\\xe2\\x80\\x99s diversity. There are a lot of lines which\\nquantum knowledge gives advantage. So, this diversity point is a big challenge. It is important to talk\\nabout this, to have and outreach in QT. I think here technology part makes outreach of the science\\nmore appealing. Because once it touches your life, the science behind them becomes much more\\ninteresting. I think it\\xe2\\x80\\x99s important to profit from that technology that is building to empower our\\ncuriosity in general. These moments are empowering people with knowledge that might be applied in\\ndifferent context of our lives as well.\\nZ: Outreach is important because quantum computing technologies are emerging technologies, and\\nsimilarly to other fields you need experts for further development. But, since it\\xe2\\x80\\x99s an emerging\\ntechnology there would not that many people who have sufficient knowledge. In most of the\\nuniversities, there are not many quantum computing courses and programs. So, it's important to\\npopularise quantum computing, that is why also outreaching is important. How it is different is similar\\nas X said, it is not easy to explain it to other people due to the reason that it requires quite good\\nbackground from different domains. It\\xe2\\x80\\x99s an interdisciplinary field. I believe that it\\xe2\\x80\\x99s more difficult than\\nin the cases of many other emerging technologies.\\nT: For me, a big part of outreach is to inspire. I feel more obligation to do outreach. If somebody 66\\nyears old says \\xe2\\x80\\x9cWow, that\\xe2\\x80\\x99s cool\\xe2\\x80\\x9d, and maybe gets inspired to learn more about it, that to me is a win.\\nEven if they never become quantum physicist. That inspiration drives maybe not necessarily from\\nliteracy, but awareness. I can\\xe2\\x80\\x99t speak about what makes quantum particularly different because I don\\xe2\\x80\\x99t\\nknow the other kinds of outreaches. But, I think that the part of it makes people aware of the social\\nimplications, and getting people excited about quantum teleportation, at the same time telling them it\\xe2\\x80\\x99s\\nnot a supernatural thing that they imagined.\\nX: Y mentioned a war technology. How in principle this word could attract many people is because it\\nmakes it more real, more concrete. On the other side, QT in general is already a sort of science-fiction\\ntopic. In that sense, it brings two points. One is the word technology in the case of quantum, may not\\nbe so helpful for the general public. Because general public is attracted by the aura of mystery behind\\nit. But, technology part could make it more attractive for business, for people who would like to\\ninvest. Second thing is this sci-fi aura around quantum brings to the topic of responsibility. It\\xe2\\x80\\x99s\\nsomething real based on scientific laws. It is our duty, we as instructors, to make it more concrete and\\nless fuzzy.\\nQUESTION 2: ---T: It means a lot of different thing, but the notion of responsibility can be considered as what you are\\ntelling people. It\\xe2\\x80\\x99s not just lying to people, but making sure that you are meeting them at a level. I talk\\nto every individual in a different level according to their age, or their educational background. We\\nhave the responsibility to meet people at their level. How you get your message across is crucial\\nbecause we have to temper their expectation without overselling quantum.\\n1\\n\\n\\x0cZ: Responsibility for academics, and researchers is to engage in outreach. Educating people is to not\\nsell some promises that is not possible to fulfil in the future. To be honest about what quantum\\ncomputers can do, how they can help to society, support science and industry in general. Not to\\noversell is very important, but to engage in outreach, and educate people as much as possible.\\nY: I would like to come back to the diversity part. It is our responsibility when we talk to a person\\nwhich topics we bring to them in terms of applications, not the science. Because we are shaping the\\nattitude in this way. Without over or underestimating other technologies, we have to talk more about\\ndiversity.\\nX: Responsibility in QT diversity, reducing the hype are called by other panellists. So, I would\\nhighlight Y\\xe2\\x80\\x99s point. There are often overpopulation of men and less by women, we should really point\\ntowards diversity and openness of this community.\\nQUESTION 3: ---X: Hype part I already mentioned. In the direction of the target audience, we should be inclusive. We\\nshould find the way of communicating with everyone. But, I would also say that, in terms of\\nspecialists, it\\xe2\\x80\\x99s still too much linked to physics department. I think it\\xe2\\x80\\x99s extremely important to bring\\npeople from outside of the physics department in QT. Because the future of QT will only be possible\\nif we could include others. If we want this ecosystem keep growing, and to be successful, we need\\nother roles which cannot be filled only by psychists.\\nT: In terms of what the community is doing wrong, I think there is too much focus on computing. We\\nshould talk about computing but there are other cool stuff other than computing. I would love to see\\noutreach focus on other aspects.\\nZ: Similar to X, the hype of quantum is probably one of the biggest issue and besides that, there is\\noverselling of quantum computing. Also spreading fake news about QT. I think it\\xe2\\x80\\x99s similar to the other\\nemerging technologies. If there is a new technology, usually you have some buzz words. So, it\\xe2\\x80\\x99s a\\nresponsibility of experts and researchers to look up for the fake news, and trying to explain what is\\ntrue, and what is not necessarily true.\\nR: This is a real issue, in terms of popularizing of these technologies, without getting familiar with\\nthem. And the outcome is counter-productive.\\nY: I believe what we miss, rather than what we do wrong, is also important. A lot of effort is done by\\nthe same scientists and engineers. This is great, it ensures the content is proper. But, this is not\\nenough, and also it overloads people if they don\\xe2\\x80\\x99t have a support system. What I mean by a support\\nsystem is a local company/group/institute that takes care of providing an infrastructure, and helps to\\nthe communication process. This local infrastructure takes what is the best in the area and allows the\\nresearchers to do their work in the best way, and in large scale we are missing this unit.\\nX: That\\xe2\\x80\\x99s a good point. Infrastructure helps, but we still face the challenges of putting people together\\nwho majored in different areas.\\nQUESTION 4: ---T: Population wise, I think we should focus on students. But, if we move into the industry, we should\\nfocus on the educated folks. Also, we should focus on policy makers. So, students, folks that work in\\nindustry that can be affected and policy makers.\\n2\\n\\n\\x0cZ: Short answer would be everyone indeed, but for a specific group, I believe that outreach should be\\ndirected to researchers, PhD students and students in computer science. Those people have already\\nvery good background, they can start having the immediate impact.\\nY: It depends on the what you want to achieve. If we want to achieve workforce, one needs to do\\noutreach to students, PhD students, and even the post-doctoral students where the qualification comes.\\nIf you want an interdisciplinary field, the experts of other areas. If you need users of technology, then\\nyou need to go to talk users. We don\\xe2\\x80\\x99t need to chose because each of us interested in different things.\\nX: I agree that defining what do you want to achieve is important, but also the timeline is important. If\\nyou look in the future, you look for the young students. On the other hand, if you want to get\\nworkforce, you look for master and PhD students. But, if you want to move the ecosystem that exists\\nnow all at once, then you need to talk with executives and policy makers. Also, I about the different\\nskills and different roles for pushing forward this ecosystem, let\\xe2\\x80\\x99s take the case of the developer of\\nquantum computer. For developing a software that programs the quantum computer, you need several\\nlayers. Imagine this as sort of a shell. At the very core, you have a programming language, and it\\ndoesn\\xe2\\x80\\x99t require any quantum knowledge. The developer only needs to know the code and how to talk\\nto the chip. Then on the outer shell, as soon as you get closer to the algorithms, the applications then\\nthe developer needs to know a bit of quantum computing. In the very outer shell, there has to be an\\nexpert on quantum computing. So, in order to have the full stack, you need different roles. That\\xe2\\x80\\x99s why\\nwe should target other departments.\\nAdditional question: ---X: I think there is some resistance and indeed it's natural. If there's something new, naturally there is\\nsome resistance. On the other, side I think we are moving on this direction. As for chemistry, there is\\nan initial interest, and there is for sure some resistance. I think it is definitely compatible, it just needs\\na bit of work.\\nT: One thing about chemists, that they do have a background in quantum. They are not starting from\\nzero.\\nY: I encountered a lot of chemists where I work. In advanced chemical modelling there is a lot of\\nquantum mechanics in it. So, their perspective for quantum computing is kind of a competitor because\\nof the model they use. They are used to their model, and learning a new one, as they explained me,\\nwas tough. Fabia, which type do you target? More pharmaceutical chemists or more scientist chemist?\\nX: I think you need both. If you want the more applied one, it\\xe2\\x80\\x99s still a bit early for pharmaceutical\\nchemists to jump in indeed. But, I think they know that in few years if they want to be ready, they\\nneed to start now. So, it\\xe2\\x80\\x99s the beginning of the field, and they need to be aware of what\\xe2\\x80\\x99s going on, and\\nindeed there is interest. But, for the present applications that we collaborate, then it\\xe2\\x80\\x99s scientists.\\nZ: In general, I didn\\xe2\\x80\\x99t experience much resistance, but there was just one situation I want to talk about.\\nQuantum machine learning. It was a machine learning conference for students and for people from\\ncomputer science and math fields. And in the end the organizers decided just not to allocate the sloth\\nfor such a talk. When I asked them what was the reason, they said that they don\\xe2\\x80\\x99t believe in the\\nshortened quantum computing. So, they think that there are no science that quantum computers will\\nbe available for near future. Computer science domain is still growing so fast that even two years from\\nnow it\\xe2\\x80\\x99s a new era. But, when we talk about the five-fifteen years of horizon, as in the case of QT,\\nthen it\\xe2\\x80\\x99s a lot. It might be also one of the reasons why it can be challenging to get involved more\\npeople from the computer science background. Because they already have many interesting projects.\\n3\\n\\n\\x0cR: The level of activity there is, much greater than even the combined quantum field. So, it\\xe2\\x80\\x99s rather\\nunderstandable for them to be not as excited as we are.\\nLast Words From The Panellists:\\nT: More brains we get working in QT in whatever capacity the better off we will be. We don\\xe2\\x80\\x99t have to\\nlimit quantum into just a small subset.\\nX: I want to stress again the diversity, not only in terms of background, but also in terms of anything.\\nFor the workforce in the future we want to be diverse, in terms of background, age range etc. This\\nissue is really matter of being responsible as educators and people work in outreach. Also it\\xe2\\x80\\x99s our\\nresponsibility to not increase this hype because it can only damage. As soon as one makes a promise\\nthat will not be delivered, it will come back.\\nY: I would like to derive a link between the previous discussion and this onr. For me as an outreach\\ncommunicator and a scientist, I want these RRI guidelines. I want a list that I can just look at, follow.\\nA useful toolkit for how to progress in your many roles.\\nZ: When we compare the emergence of QT to the emergence of other technologies in the past, I\\nbelieve that as a community of researchers, we learned a lot. Hopefully in case of quantum computing\\nwe have better tools, also better tools for communication then it was in the past. I believe now we are\\nable to avoid many mistakes that we did in the past, and we are going well.\\n\\n4\\n\\n\\x0c\", False)\n"
     ]
    },
    {
     "ename": "IndexError",
     "evalue": "list index out of range",
     "output_type": "error",
     "traceback": [
      "\u001b[1;31m\u001b[0m",
      "\u001b[1;31mIndexError\u001b[0mTraceback (most recent call last)",
      "\u001b[1;32m<ipython-input-2-a4fd81454640>\u001b[0m in \u001b[0;36m<module>\u001b[1;34m()\u001b[0m\n\u001b[0;32m     17\u001b[0m     \u001b[0my\u001b[0m \u001b[1;33m=\u001b[0m \u001b[0mx\u001b[0m\u001b[1;33m.\u001b[0m\u001b[0msplit\u001b[0m\u001b[1;33m(\u001b[0m\u001b[1;34m':'\u001b[0m\u001b[1;33m)\u001b[0m\u001b[1;33m\u001b[0m\u001b[0m\n\u001b[0;32m     18\u001b[0m     \u001b[1;32mfor\u001b[0m \u001b[0mm\u001b[0m \u001b[1;32min\u001b[0m \u001b[0my\u001b[0m\u001b[1;33m:\u001b[0m\u001b[1;33m\u001b[0m\u001b[0m\n\u001b[1;32m---> 19\u001b[1;33m         \u001b[0mjson_dic\u001b[0m\u001b[1;33m.\u001b[0m\u001b[0mupdate\u001b[0m\u001b[1;33m(\u001b[0m\u001b[1;33m{\u001b[0m\u001b[0my\u001b[0m\u001b[1;33m[\u001b[0m\u001b[1;36m0\u001b[0m\u001b[1;33m]\u001b[0m\u001b[1;33m:\u001b[0m\u001b[0my\u001b[0m\u001b[1;33m[\u001b[0m\u001b[1;36m1\u001b[0m\u001b[1;33m]\u001b[0m\u001b[1;33m}\u001b[0m\u001b[1;33m)\u001b[0m\u001b[1;33m\u001b[0m\u001b[0m\n\u001b[0m\u001b[0;32m     20\u001b[0m \u001b[0mdata\u001b[0m \u001b[1;33m=\u001b[0m \u001b[0mjson\u001b[0m\u001b[1;33m.\u001b[0m\u001b[0mloads\u001b[0m\u001b[1;33m(\u001b[0m\u001b[0mjson\u001b[0m\u001b[1;33m.\u001b[0m\u001b[0mdumps\u001b[0m\u001b[1;33m(\u001b[0m\u001b[0mjson_dic\u001b[0m\u001b[1;33m,\u001b[0m \u001b[0mindent\u001b[0m\u001b[1;33m=\u001b[0m\u001b[1;36m4\u001b[0m\u001b[1;33m)\u001b[0m\u001b[1;33m)\u001b[0m\u001b[1;33m\u001b[0m\u001b[0m\n\u001b[0;32m     21\u001b[0m \u001b[0mtemp\u001b[0m \u001b[1;33m=\u001b[0m \u001b[0mpd\u001b[0m\u001b[1;33m.\u001b[0m\u001b[0mDataFrame\u001b[0m\u001b[1;33m.\u001b[0m\u001b[0mfrom_dict\u001b[0m\u001b[1;33m(\u001b[0m\u001b[0mjson_normalize\u001b[0m\u001b[1;33m(\u001b[0m\u001b[0mdata\u001b[0m\u001b[1;33m)\u001b[0m\u001b[1;33m,\u001b[0m\u001b[0morient\u001b[0m\u001b[1;33m=\u001b[0m\u001b[1;34m'columns'\u001b[0m\u001b[1;33m)\u001b[0m\u001b[1;33m\u001b[0m\u001b[0m\n",
      "\u001b[1;31mIndexError\u001b[0m: list index out of range"
     ]
    }
   ],
   "source": [
    "import textract\n",
    "import pandas as pd\n",
    "import numpy as np\n",
    "import json, collections\n",
    "from pandas.io.json import json_normalize\n",
    "import os\n",
    "text = textract.process('panel_discussion.docx.pdf')\n",
    "dic = {x for x\n",
    " in text.split('\\n')}\n",
    "#remove the empty spaces in dic\n",
    "dic.remove('') if '' in dic else dic\n",
    "with open(\"output.txt\", \"w\") as text_file:\n",
    "\tprint(text, file == 'text')\n"
   ]
  },
  {
   "cell_type": "code",
   "execution_count": null,
   "metadata": {},
   "outputs": [],
   "source": [
    "json_dic = {}\n",
    "for x in dic:\n",
    "    #split each question by colon and tranform it into a json format\n",
    "    y = x.split(':')\n",
    "    for m in y:\n",
    "        json_dic.update({y[0]:y[1]})\n",
    "data = json.loads(json.dumps(json_dic, indent=4))\n",
    "temp = pd.DataFrame.from_dict(json_normalize(data),orient='columns')"
   ]
  },
  {
   "cell_type": "code",
   "execution_count": 5,
   "metadata": {},
   "outputs": [],
   "source": [
    "import csv\n",
    "def get_info1(file, x, y, z, t, r):\n",
    "    with open(\"panel_discussion.csv\") as f:\n",
    "        result = []\n",
    "        geo_data = f.readlines()  #reads entire file into a list\n",
    "    for row in geo_data:\n",
    "        row = row.strip().split(\":\")\n",
    "        if (row[2] == continent and row[3] == coastline and row[4] == desert):\n",
    "            result.append(row[0])\n",
    "            result.append(row[-1])\n",
    "    return result"
   ]
  }
 ],
 "metadata": {
  "kernelspec": {
   "display_name": "Python 2.7.18 ('py2')",
   "language": "python",
   "name": "python3"
  },
  "language_info": {
   "codemirror_mode": {
    "name": "ipython",
    "version": 2
   },
   "file_extension": ".py",
   "mimetype": "text/x-python",
   "name": "python",
   "nbconvert_exporter": "python",
   "pygments_lexer": "ipython2",
   "version": "2.7.18"
  },
  "orig_nbformat": 4,
  "vscode": {
   "interpreter": {
    "hash": "517ea885f02c4ad19bc6b8f4d85440663c258ee51397a7d7c593f9e6e49fcfb3"
   }
  }
 },
 "nbformat": 4,
 "nbformat_minor": 2
}
